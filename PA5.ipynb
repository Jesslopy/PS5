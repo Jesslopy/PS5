{
 "cells": [
  {
   "cell_type": "markdown",
   "id": "99f3215d",
   "metadata": {},
   "source": [
    "# Programming Assignment 5: 1D Random Walk\n",
    "\n",
    "**Note**: If your computer does not render math equations properly, you can do a right-click and then change the rendering method (`Math Settings > Math Renderer`) to be `HTML-CSS`.\n",
    "\n",
    "**tl;dr**: There are 2 tasks waiting for you (scroll down for more information).\n",
    "\n",
    "## Introduction\n",
    "\n",
    "The goal of this assignment is to distinguish the value $\\mathbf{E}[|X|]$ from the standard deviation $\\mathrm{stdev}(X)$, as remarked from the writing assignment problem 3.\n"
   ]
  },
  {
   "cell_type": "code",
   "execution_count": null,
   "id": "8e742134",
   "metadata": {},
   "outputs": [],
   "source": [
    "# Just in case you need to import some packages.\n",
    "import numpy as np\n",
    "import seaborn as sns\n",
    "import matplotlib.pyplot as plt\n",
    "from matplotlib.collections import LineCollection\n",
    "plt.style.use(\"seaborn-v0_8\")"
   ]
  },
  {
   "cell_type": "markdown",
   "id": "4808b3a5",
   "metadata": {},
   "source": [
    "## Task 1: Plot 1000 Random Walks of 1000 Steps (2 point)\n",
    "\n",
    "Let's reproduce the random walk plot (Figure 1.8) from the textbook, but with a twist --- we use a biased coin $\\mathrm{Bernoulli}(p)$.\n",
    "Please implement the function `simulate_random_walk()` that plots $\\mathit{rep}$ random walks of length $N$.\n",
    "Each random walk corresponds to tossing a sequence of $N$ biased coins, where each step results in $+1$ with probability $p$, and results in $-1$ with probability $1-p$.\n"
   ]
  },
  {
   "cell_type": "code",
   "execution_count": null,
   "id": "b53a92e2",
   "metadata": {},
   "outputs": [],
   "source": [
    "def simulate_random_walk(p = 0.5, rep = 50, N = 10):\n",
    "    \"\"\" You don't have to follow this code. But this code, once you finished it, runs pretty fast. \"\"\"\n",
    "    \n",
    "    # Generate a large 2D array of random +1/-1 values.\n",
    "    walks =                                                    \"\"\" HINT: USE np.random.choice() \"\"\"\n",
    "    \n",
    "    # Pad the array with 0\n",
    "    walks =                                                    \"\"\" HINT: USE np.pad() \"\"\"\n",
    "    # Use np.cumsum(walks, axis=1) to aggregate the prefix sums.\n",
    "    walks =                                                    \"\"\" HINT: USE np.cumsum() \"\"\"\n",
    "    \n",
    "    # Pad the 2D array into 2D array of \"(x, y) coordinates\"\n",
    "    walks =                                                    \"\"\" HINT: USE np.pad() or np.newaxis \"\"\"\n",
    "    walks[:, :, 0] =                                           \"\"\" HINT: assign x-coordinate values \"\"\"\n",
    "\n",
    "    \n",
    "    # Set up the color palettes.\n",
    "    colors = plt.rcParams['axes.prop_cycle'].by_key()['color']\n",
    "    line_segments = LineCollection(walks, linewidths=1, colors=colors, linestyle='solid')\n",
    "    plt.rcParams[\"figure.figsize\"] = (8, 4)\n",
    "    ax = plt.gca()\n",
    "    ax.add_collection(line_segments)\n",
    "    ax.set_title(f'Random walks of {N} steps, repeated {rep} time(s)')\n",
    "    \n",
    "    # Set up the figure window.\n",
    "    ax.set_xlim([0, N])\n",
    "    max_yvalue = np.max(walks[:, :, 1])\n",
    "    min_yvalue = np.min(walks[:, :, 1])\n",
    "    ax.set_ylim([min_yvalue, max_yvalue])"
   ]
  },
  {
   "cell_type": "markdown",
   "id": "d2a9a8de",
   "metadata": {},
   "source": [
    "### Testing\n",
    "\n",
    "We will test your function with the following parameters."
   ]
  },
  {
   "cell_type": "code",
   "execution_count": null,
   "id": "e8c06c40",
   "metadata": {
    "scrolled": false
   },
   "outputs": [],
   "source": [
    "simulate_random_walk(0.5, 1, 1000)"
   ]
  },
  {
   "cell_type": "code",
   "execution_count": null,
   "id": "2e53d724",
   "metadata": {
    "scrolled": false
   },
   "outputs": [],
   "source": [
    "# this one more-or-less looks like Figure 1.8 from the textbook.\n",
    "simulate_random_walk(0.5, 1000, 1000)"
   ]
  },
  {
   "cell_type": "code",
   "execution_count": null,
   "id": "b1f84c2a",
   "metadata": {},
   "outputs": [],
   "source": [
    "# Slightly lean toward +1\n",
    "simulate_random_walk(0.6, 1000, 1000)"
   ]
  },
  {
   "cell_type": "markdown",
   "id": "b7651f0e",
   "metadata": {},
   "source": [
    "## Task 2: Distribution of E[|X|] (1 point)\n",
    "\n",
    "Implement the function `distribution_of_absolute_distance()` that returns the average **absolute distance** from the origin when simulating random walks of $N$ steps for $\\mathit{rep}$ times.\n",
    "Furthermore, your function should plot a histogram of these distances."
   ]
  },
  {
   "cell_type": "code",
   "execution_count": null,
   "id": "9448574d",
   "metadata": {},
   "outputs": [],
   "source": [
    "def distribution_of_absolute_distance(p = 0.5, rep = 10000, N = 10000):\n",
    "    \"\"\"Your code here.\"\"\"\n",
    "    \n",
    "    walks = \"\"\" HINT: reuse some code from Task 1 \"\"\"\n",
    "    \n",
    "    \n",
    "    # \"walks\" will be an array storing the experiment results.\n",
    "    bins = np.linspace(np.min(walks), np.max(walks))\n",
    "    plt.hist(walks, bins = bins)\n",
    "    return np.mean(walks)"
   ]
  },
  {
   "cell_type": "markdown",
   "id": "32d277cd",
   "metadata": {},
   "source": [
    "### Testing\n",
    "\n",
    "Use smaller $N$ and $\\mathit{rep}$ values to make sure your code works.\n",
    "We will test your code with the following setting: $N=10000$ and $\\mathit{rep}=10000$."
   ]
  },
  {
   "cell_type": "code",
   "execution_count": null,
   "id": "b2decf39",
   "metadata": {},
   "outputs": [],
   "source": [
    "N = 10000\n",
    "rep = 10000"
   ]
  },
  {
   "cell_type": "code",
   "execution_count": null,
   "id": "8a3ee9e3",
   "metadata": {},
   "outputs": [],
   "source": [
    "# Test 1: we can compare with the theoretical value derived from writing assignment.\n",
    "avg = distribution_of_absolute_distance(0.5, rep, N)\n",
    "thy = np.sqrt(2*N / np.pi) \n",
    "print(f\"empirical = {avg}\")\n",
    "print(f\"theoretical = {thy}\")"
   ]
  },
  {
   "cell_type": "code",
   "execution_count": null,
   "id": "35fa4e13",
   "metadata": {
    "scrolled": true
   },
   "outputs": [],
   "source": [
    "# Test 2: when the coin is biased, we should expected a larger distance from the origin...\n",
    "distribution_of_absolute_distance(0.49, rep, N)"
   ]
  },
  {
   "cell_type": "code",
   "execution_count": null,
   "id": "dde25500",
   "metadata": {},
   "outputs": [],
   "source": [
    "# Test 3: when the coin is much more biased, we should expected an even larger distance from the origin...\n",
    "distribution_of_absolute_distance(0.4, rep, N)"
   ]
  }
 ],
 "metadata": {
  "kernelspec": {
   "display_name": "Python 3 (ipykernel)",
   "language": "python",
   "name": "python3"
  },
  "language_info": {
   "codemirror_mode": {
    "name": "ipython",
    "version": 3
   },
   "file_extension": ".py",
   "mimetype": "text/x-python",
   "name": "python",
   "nbconvert_exporter": "python",
   "pygments_lexer": "ipython3",
   "version": "3.11.5"
  }
 },
 "nbformat": 4,
 "nbformat_minor": 5
}
